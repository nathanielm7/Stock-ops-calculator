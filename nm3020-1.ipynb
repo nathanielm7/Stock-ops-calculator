{
 "cells": [
  {
   "cell_type": "markdown",
   "metadata": {},
   "source": [
    "# COMS W1002 Computing in Context: Computational Finance  \n",
    "## Professor Karl Sigman\n",
    "## Option Pricing Using Monte Carlo Simulation"
   ]
  },
  {
   "cell_type": "markdown",
   "metadata": {},
   "source": [
    "__Problem 1:__ For the values of $p=0.5$ and $p=0.75$ obtain an estimate of $p$ by using Monte Carlo Simulation with $n=100, n=1000, n=10,000$ You will generate $n$ _iid_ Bernoulli $(p)$ random variables $B_1, ..., B_n$ and use as the estimate $$ \\hat{p}= \\frac{1}{n}\\sum_{i=1}^{n}B_i $$ \n",
    "This is to show you (convince you) how accurate the Monte Carlo method can be, and how the Strong Law of Large Numbers (SLLN) works in practice."
   ]
  },
  {
   "cell_type": "code",
   "execution_count": 333,
   "metadata": {},
   "outputs": [
    {
     "data": {
      "text/plain": [
       "0.5076"
      ]
     },
     "execution_count": 333,
     "metadata": {},
     "output_type": "execute_result"
    }
   ],
   "source": [
    "# write your code here\n",
    "# you may add more cells as needed\n",
    "\n",
    "#import random number generator\n",
    "import random\n",
    "#number of trials\n",
    "N = 10000\n",
    "#probability of success\n",
    "prob = .5\n",
    "\n",
    "def bernoulli(p):\n",
    "    u = random.random()\n",
    "    if u<p:\n",
    "        return 1\n",
    "    return 0\n",
    "\n",
    "sum([bernoulli(prob)== 1 for i in range(N)])/N"
   ]
  },
  {
   "cell_type": "markdown",
   "metadata": {},
   "source": [
    "Output if p = .5:\n",
    "\n",
    "N = 100, p = .46\n",
    "\n",
    "N = 1000, p = .507\n",
    "\n",
    "N = 10000, p = .5054"
   ]
  },
  {
   "cell_type": "code",
   "execution_count": 39,
   "metadata": {},
   "outputs": [
    {
     "data": {
      "text/plain": [
       "0.74"
      ]
     },
     "execution_count": 39,
     "metadata": {},
     "output_type": "execute_result"
    }
   ],
   "source": [
    "#number of trials\n",
    "N = 100\n",
    "#probability of success\n",
    "p = .75\n",
    "\n",
    "sum([bernoulli()== 1 for i in range(N)])/N        "
   ]
  },
  {
   "cell_type": "markdown",
   "metadata": {},
   "source": [
    "Output if p = .75:\n",
    "\n",
    "N = 100, p = .88\n",
    "\n",
    "N = 1000, p = .748\n",
    "\n",
    "N = 10000, p = .7454"
   ]
  },
  {
   "cell_type": "markdown",
   "metadata": {},
   "source": [
    "__Problem 2:__ Recall the formula for computing the price $C_0$ of an option (derivative of the BLM stock prices) That yields a payoff at time $T$, denote by $C_T$:\n",
    "$$ C_0 = \\frac{1}{(1+r)^T}E^*(C_T), $$  \n",
    "\n",
    "where $*$ refers to the fact that we must use the value $p^*$ instead of the original (real) $P$ for the up/down probability of the BLM. (The real value of $P$ is not needed for priciing.) Also recall that for $C_T = (S_T - K)^+$, the European call option, the expected value, $E^*(S_T-K)^+$ can be computed explicitly yielding the famous Black-Scholes-Merton option pricing formula:  \n",
    "$$ C_0 = \\frac{1}{(1+r)^T}\\sum_{k=0}^{T} \\left( \\begin{array}{c}\n",
    "T \\\\ k  \\end{array} \\right )(p^*)^k(1-p^*)^{T-k}(u^k d^{T-k}S_0-K)^+ . $$  \n",
    "\n",
    "You are to use this formula to exactly obtain the price on the one hand, and then use Monte Carlo simulation on the other hand to compare and thus see how accurate the Monte Carlo method can be. \n",
    "\n",
    "Here are the parameters to use: $T = 10, r = 0.05, u = 1.15, d= 1.01, p =.05, S_0 = 50, K = 70$. Recall that \n",
    "$$ p^* = \\frac{1+r-d}{u-d} . $$  \n",
    "\n",
    "For the Monte Carlo, use $n=100, n=1000, n=10,000$ _iid_ copies of $C_T$ (for averaging) to see how it gets more accurate as $n$ increases."
   ]
  },
  {
   "cell_type": "code",
   "execution_count": 262,
   "metadata": {},
   "outputs": [
    {
     "name": "stdout",
     "output_type": "stream",
     "text": [
      "7.943399485843426\n"
     ]
    }
   ],
   "source": [
    "#C0 using implicit formula for the european call option\n",
    "\n",
    "#Tools for combinations\n",
    "import math \n",
    "\n",
    "def nCr(n,r):\n",
    "    f = math.factorial\n",
    "    return f(n) / f(r) / f(n-r)\n",
    "\n",
    "#Time increments\n",
    "T = 10\n",
    "#interest rate\n",
    "r = .05\n",
    "#Up value\n",
    "u = 1.15\n",
    "#Down value\n",
    "d = 1.01\n",
    "#probability\n",
    "p = .05\n",
    "#Starting price\n",
    "S0 = 50\n",
    "#Strike Place\n",
    "K = 70\n",
    "#Current day increment\n",
    "i = 0\n",
    "#expected probability\n",
    "pstar = (1 + r - d) / (u - d)\n",
    "#longprice\n",
    "lp = 0\n",
    "lpsum = 0\n",
    "#Option price\n",
    "C0 = 0\n",
    "#Track up or down value\n",
    "up = 0\n",
    "#Combination of T and i\n",
    "C = 0\n",
    "#total sum for series in sigma\n",
    "totalsum = []\n",
    "\n",
    "#Black-Scholes-Merton Formula\n",
    "while i <= 10:\n",
    "    up = ((u**i)*(d**(T - i))*S0-K)\n",
    "    if up <= 0:\n",
    "        up = 0\n",
    "    lp = (pstar**i)*((1 - pstar)**(T-i))* up\n",
    "    C = nCr(T,i)\n",
    "    lpsum = lp*C\n",
    "    totalsum.append(lpsum)\n",
    "    i = i + 1\n",
    "\n",
    "totalsum = sum(totalsum)\n",
    "C0 = totalsum * (1/((1 + r)**T))\n",
    "\n",
    "print(C0)"
   ]
  },
  {
   "cell_type": "code",
   "execution_count": 499,
   "metadata": {},
   "outputs": [
    {
     "name": "stdout",
     "output_type": "stream",
     "text": [
      "8.15291926817874\n"
     ]
    }
   ],
   "source": [
    "#Sum of cost at BLM\n",
    "blmsum = 0\n",
    "#number of trials\n",
    "i = 10000\n",
    "#Variable for recursion\n",
    "r = 0\n",
    "#Total cost of BLM\n",
    "blmtotal = 0\n",
    "\n",
    "#Generate Y variable\n",
    "def Y(p,u,d):\n",
    "    if bernoulli(p):\n",
    "        return u\n",
    "    else:\n",
    "        return d\n",
    "\n",
    "#Generate BLM\n",
    "def BLM(S0,n,p,u,d):\n",
    "    BLMpath = [0 for k in range(n+1)]\n",
    "    BLMpath[0] = S0\n",
    "    Ysamples = [Y(p,u,d) for k in range (n)]    \n",
    "    S = S0\n",
    "    for k in range(1,n+1):\n",
    "        S *= Ysamples[k-1]\n",
    "        BLMpath[k] = S\n",
    "    return BLMpath\n",
    "\n",
    "while r <= i:\n",
    "    blmsum = BLM(50, 10, 4/14, 1.15, 1.01)\n",
    "    blmsum = blmsum[-1]\n",
    "    r = r + 1\n",
    "blmtotal = blmsum/i*1000\n",
    "print(blmtotal)"
   ]
  },
  {
   "cell_type": "markdown",
   "metadata": {},
   "source": [
    "n(100) = CT = 8.15\n",
    "n(1000) = CT = 7.16\n",
    "n(10000) = CT = 8.15"
   ]
  },
  {
   "cell_type": "markdown",
   "metadata": {},
   "source": [
    "__Problem 3__: With the same parameters as in Problem 2, price the _Asian call option:_ The payoff $C_T$ at atime $T$ is based on the average value of the stock over the $T$ time units:\n",
    "$$ C_T = \\left( \\frac{1}{T} \\sum_{i=1}^{T} S_i-K \\right)^+ $$  \n",
    "\n",
    "Use $n=100, n=1000, n=10,000$ _iid_ copies of $C_T$ (for averaging)."
   ]
  },
  {
   "cell_type": "code",
   "execution_count": 461,
   "metadata": {},
   "outputs": [
    {
     "name": "stdout",
     "output_type": "stream",
     "text": [
      "7.081728848900543\n"
     ]
    }
   ],
   "source": [
    "#Sum of cost at BLM\n",
    "blmsum = 0\n",
    "#number of trials\n",
    "i = 1000\n",
    "#recursion\n",
    "r = 0\n",
    "#Total cost of BLM\n",
    "blmtotal = 0\n",
    "\n",
    "#Generate Y variable\n",
    "def Y(p,u,d):\n",
    "    if bernoulli(p):\n",
    "        return u\n",
    "    else:\n",
    "        return d\n",
    "\n",
    "#Generate BLM\n",
    "def BLM(S0,n,p,u,d):\n",
    "    BLMpath = [0 for k in range(n+1)]\n",
    "    BLMpath[0] = S0\n",
    "    Ysamples = [Y(p,u,d) for k in range (n)]    \n",
    "    S = S0\n",
    "    for k in range(1,n+1):\n",
    "        S *= Ysamples[k-1]\n",
    "        BLMpath[k] = S \n",
    "    return BLMpath\n",
    "\n",
    "blmtotal = 0\n",
    "pathtotal = 0\n",
    "#Recursion to find the sum of path values\n",
    "while r <= i:\n",
    "    blmsum = 0\n",
    "    blmsum = BLM(50, 10, 4/14, 1.15, 1.01)\n",
    "    blmsum = sum(blmsum)\n",
    "    pathtotal = blmsum + pathtotal\n",
    "    r = r + 1\n",
    "pathtotal = pathtotal / 10\n",
    "CT = pathtotal/(i*10)\n",
    "print(CT)"
   ]
  },
  {
   "cell_type": "markdown",
   "metadata": {},
   "source": [
    "n(100) = CT = 7.22\n",
    "n(1000) = CT = 7.11\n",
    "n(10000) = CT = 7.106\n"
   ]
  },
  {
   "cell_type": "markdown",
   "metadata": {},
   "source": [
    "__Problem 4__: With the same parameters as in Problem 2, but the additional parameters $n_1 = 4, n_2 =6,$ and $b=66$: price a _down and out barrier option_, that has payoff at time $T$ of  \n",
    "\n",
    "$$ C_T = (S_T -K)^+ I \\{ S_{n_1} \\geq b, S_{n_2} \\geq b \\}.$$ \n",
    "\n",
    "Use $n=100, n=1000, n=10,000$ _iid_ copies of $C_T$ (for averaging).\n",
    "\n",
    "In the above, recall that for any event $A$, $I\\{A\\}$ denotes the _indicator_ random variable defined by  \n",
    "$$ I\\{A\\} = \\left\\{ \\begin{array}{ll} 1 & \\mbox{if $A$ occurs,} \\\\ 0 & \\mbox{if $A$ does not occur.} \\end{array} \\right. $$\n",
    "\n",
    "  \n",
    "Here, $A = \\{S_{n_1} \\geq b, S_{n_2} \\geq b\\}$.\n"
   ]
  },
  {
   "cell_type": "code",
   "execution_count": 504,
   "metadata": {},
   "outputs": [
    {
     "name": "stdout",
     "output_type": "stream",
     "text": [
      "8.15291926817874\n"
     ]
    }
   ],
   "source": [
    "#Unable to finish\n",
    "def indicator(p):\n",
    "    u = random.random()\n",
    "    if u<p:\n",
    "        return 1\n",
    "    return 0\n",
    "\n",
    "indicator(4/14)\n",
    "\n",
    "\n",
    "#Generate BLM\n",
    "def BLM(S0,n,p,u,d):\n",
    "    BLMpath = [0 for k in range(n+1)]\n",
    "    BLMpath[0] = S0\n",
    "    Ysamples = [Y(p,u,d) for k in range (n)]    \n",
    "    S = S0\n",
    "    for k in range(1,n+1):\n",
    "        S *= Ysamples[k-1]\n",
    "        BLMpath[k] = S\n",
    "    return BLMpath\n",
    "\n",
    "\n",
    "blmsum = BLM(50, 10, 4/14, 1.15, 1.01)\n",
    "\n",
    "for i in len(blmsum):\n",
    "    if blmsum[i]\n",
    "\n",
    "\n"
   ]
  },
  {
   "cell_type": "code",
   "execution_count": null,
   "metadata": {},
   "outputs": [],
   "source": []
  }
 ],
 "metadata": {
  "anaconda-cloud": {},
  "kernelspec": {
   "display_name": "Python 3",
   "language": "python",
   "name": "python3"
  },
  "language_info": {
   "codemirror_mode": {
    "name": "ipython",
    "version": 3
   },
   "file_extension": ".py",
   "mimetype": "text/x-python",
   "name": "python",
   "nbconvert_exporter": "python",
   "pygments_lexer": "ipython3",
   "version": "3.7.3"
  }
 },
 "nbformat": 4,
 "nbformat_minor": 1
}
